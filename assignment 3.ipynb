{
 "cells": [
  {
   "cell_type": "code",
   "execution_count": 13,
   "id": "e914ede3-50c9-471c-bce7-6194bea26f2c",
   "metadata": {},
   "outputs": [
    {
     "data": {
      "text/plain": [
       "[('Virat Kohli', 24936),\n",
       " ('Jack Kallis', 25534),\n",
       " ('Ricky Ponting', 27483),\n",
       " ('Sachin Tendulkar', 34357)]"
      ]
     },
     "execution_count": 13,
     "metadata": {},
     "output_type": "execute_result"
    }
   ],
   "source": [
    "''' Question 1. Create a python program to sort the given list of tuples based on integer value using a \n",
    "lambda function. \n",
    "[('Sachin Tendulkar', 34357), ('Ricky Ponting', 27483), ('Jack Kallis', 25534), ('Virat Kohli', 24936)] '''\n",
    "\n",
    "# solution :\n",
    "\n",
    "l = [('Sachin Tendulkar', 34357), ('Ricky Ponting', 27483), ('Jack Kallis', 25534), ('Virat Kohli', 24936)]\n",
    "\n",
    "sorted(l,key = lambda x:x[1] )\n"
   ]
  },
  {
   "cell_type": "code",
   "execution_count": 12,
   "id": "43abea46-5bc8-42d9-937d-8d8071d135bd",
   "metadata": {},
   "outputs": [
    {
     "data": {
      "text/plain": [
       "[1, 4, 9, 16, 25, 36, 49, 64, 81, 100]"
      ]
     },
     "execution_count": 12,
     "metadata": {},
     "output_type": "execute_result"
    }
   ],
   "source": [
    "''' Question2. Write a Python Program to find the squares of all the numbers in the given list of integers using \n",
    "lambda and map functions.\n",
    " [1, 2, 3, 4, 5, 6, 7, 8, 9, 10] '''\n",
    "\n",
    "#solution\n",
    "\n",
    "l = [1,2,3,4,5,6,7,8,9,10]\n",
    "\n",
    "list(map(lambda x : x**2 , l))"
   ]
  },
  {
   "cell_type": "code",
   "execution_count": 2,
   "id": "66a01408-48b4-489a-ac2c-20b8ca827a00",
   "metadata": {},
   "outputs": [
    {
     "data": {
      "text/plain": [
       "('1', '2', '3', '4', '5', '6', '7', '8', '9', '10')"
      ]
     },
     "execution_count": 2,
     "metadata": {},
     "output_type": "execute_result"
    }
   ],
   "source": [
    "''' Question3. Write a python program to convert the given list of integers into a tuple of strings. Use map and \n",
    "lambda functions\n",
    " Given String: [1, 2, 3, 4, 5, 6, 7, 8, 9, 10]\n",
    " Expected output: ('1', '2', '3', '4', '5', '6', '7', '8', '9', '10')  '''\n",
    "\n",
    "# Solution\n",
    "\n",
    "l = [1,2,3,4,5,6,7,8,9,10]\n",
    "\n",
    "tuple(map(lambda x : str(x) ,l))"
   ]
  },
  {
   "cell_type": "code",
   "execution_count": 6,
   "id": "9cb0459a-89dc-42cd-9389-e96f6842ca29",
   "metadata": {},
   "outputs": [
    {
     "data": {
      "text/plain": [
       "15511210043330985984000000"
      ]
     },
     "execution_count": 6,
     "metadata": {},
     "output_type": "execute_result"
    }
   ],
   "source": [
    "''' Question 4.  Write a python program using reduce function to compute the product of a list containing numbers \n",
    "from 1 to 25  '''\n",
    "\n",
    "#solution\n",
    "from functools import reduce\n",
    "reduce(lambda x,y : x*y , range(1,26))"
   ]
  },
  {
   "cell_type": "code",
   "execution_count": 11,
   "id": "b7e161ba-fbe8-4a0f-9bdc-d1c9c9c54022",
   "metadata": {},
   "outputs": [
    {
     "data": {
      "text/plain": [
       "[6, 60, 90, 120]"
      ]
     },
     "execution_count": 11,
     "metadata": {},
     "output_type": "execute_result"
    }
   ],
   "source": [
    "''' Question 5. Write a python program to filter the numbers in a given list that are divisible by 2 and 3 using the \n",
    "filter function.\n",
    " [2, 3, 6, 9, 27, 60, 90, 120, 55, 46]  '''\n",
    "\n",
    "# solution\n",
    "\n",
    "l1 = [2, 3, 6, 9, 27, 60, 90, 120, 55, 46]\n",
    "\n",
    "list(filter(lambda x : x%2 == 0 ,list(filter(lambda x : x%3 ==0 , l1))))"
   ]
  },
  {
   "cell_type": "code",
   "execution_count": null,
   "id": "fafa5082-fcc8-480f-a0e4-a4425a7033b9",
   "metadata": {},
   "outputs": [],
   "source": [
    "''' Question 6. Write a python program to find palindromes in the given list of strings using lambda and filter \n",
    "function.\n",
    " ['python', 'php', 'aba', 'radar', 'level']  '''\n",
    "\n",
    "# solution\n",
    "\n",
    "words = ['python', 'php', 'aba', 'radar', 'level']\n",
    "\n",
    "palindromes = list(filter())"
   ]
  }
 ],
 "metadata": {
  "kernelspec": {
   "display_name": "Python 3 (ipykernel)",
   "language": "python",
   "name": "python3"
  },
  "language_info": {
   "codemirror_mode": {
    "name": "ipython",
    "version": 3
   },
   "file_extension": ".py",
   "mimetype": "text/x-python",
   "name": "python",
   "nbconvert_exporter": "python",
   "pygments_lexer": "ipython3",
   "version": "3.10.8"
  }
 },
 "nbformat": 4,
 "nbformat_minor": 5
}
